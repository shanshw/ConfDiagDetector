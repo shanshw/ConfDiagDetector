{
 "cells": [
  {
   "cell_type": "code",
   "execution_count": 1,
   "metadata": {},
   "outputs": [],
   "source": [
    "import csv\n",
    "\n",
    "def extract_and_write(input_file, output_file):\n",
    "    # 打开 CSV 文件进行读取\n",
    "    with open(input_file, 'r', newline='', encoding='utf-8') as csvfile:\n",
    "        # 使用 csv.reader 读取文件内容\n",
    "        reader = csv.reader(csvfile)\n",
    "        \n",
    "        # 获取表头（第一行）\n",
    "        header = next(reader)\n",
    "        \n",
    "        # 找到 \"property\" 和 \"description\" 列的索引\n",
    "        property_index = header.index(\"property\")\n",
    "        description_index = header.index(\"description\")\n",
    "        \n",
    "        # 创建一个空字典，用于存储 property:description 的键值对\n",
    "        data_dict = {}\n",
    "        \n",
    "        # 遍历 CSV 文件的每一行\n",
    "        for row in reader:\n",
    "            # 提取 \"property\" 和 \"description\" 列的值\n",
    "            property_value = row[property_index]\n",
    "            description_value = row[description_index]\n",
    "            \n",
    "            # 将 property:description 存入字典\n",
    "            data_dict[property_value] = description_value\n",
    "    \n",
    "    # 将字典中的内容写入到输出文件\n",
    "    with open(output_file, 'w', encoding='utf-8') as outfile:\n",
    "        for property_value, description_value in data_dict.items():\n",
    "            print(f\"{property_value}:{description_value}\\n\")\n",
    "            # 写入 property:description 到文件\n",
    "            outfile.write(f\"{property_value}:{description_value}\\n\")\n",
    "\n",
    "# 调用函数，传入输入文件和输出文件的路径\n",
    "extract_and_write(\"property_corpus_numeric_only_with_des.csv\", \"conf.out\")\n"
   ]
  }
 ],
 "metadata": {
  "kernelspec": {
   "display_name": "base",
   "language": "python",
   "name": "python3"
  },
  "language_info": {
   "codemirror_mode": {
    "name": "ipython",
    "version": 3
   },
   "file_extension": ".py",
   "mimetype": "text/x-python",
   "name": "python",
   "nbconvert_exporter": "python",
   "pygments_lexer": "ipython3",
   "version": "3.11.4"
  }
 },
 "nbformat": 4,
 "nbformat_minor": 2
}
